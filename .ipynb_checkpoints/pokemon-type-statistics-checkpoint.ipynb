{
 "cells": [
  {
   "cell_type": "markdown",
   "metadata": {},
   "source": [
    "# Pokémon - Different Types and their defenses\n",
    "\n",
    "My iPython notebook source: https://github.com/danieljames-dj/notebooks/blob/master/pokemon-type-statistics.ipynb\n",
    "\n",
    "As you all know, the Throwback Challenge has started in Pokemon GO. Due to the lockdown in my country, It's been a very long time I've cleaned my Pokemon storage, but since the Throwback Challenge has started and I don't have access to PokeGyms (to get PokeCoins), I planned to clear few unwanted Pokemons from my storage.\n",
    "\n",
    "I am not much interested in stuffs like 'shiny collection' and all, I'm mainly interested in PvP battles and PokeRaids. I'm having some really good Pokemons for the PvP battles. But that is not the case with PokeRaids. I won't know which type of Pokemon I will have to encounter with.\n",
    "\n",
    "There are 18 different types of Pokemon. Also, there are many Pokemons with dual types. My aim is to maintain only those Pokemon which will be useful either in PvP or raid battles. I already have the list of Pokemons that I have to maintain for PvP. Now, I've to list out those Pokemons that I need to maintain for raids.\n",
    "\n",
    "Here's my procedure: I'll list down all the types - not just 18, but also the dual types as well. Whenever I want to check whether a Pokemon will be useful ever, I'll just search the type of that Pokemon in this list and will see whether that Pokemon is best against any of the types. If not, I'll send it to Professor. By this, I can make sure I'll be able to attack in any raids with a good team.\n",
    "\n",
    "To see my list, please follow this link: https://github.com/danieljames-dj/notebooks/blob/master/pokemon-type-statistics.txt"
   ]
  },
  {
   "cell_type": "markdown",
   "metadata": {},
   "source": [
    "Okay, now I'll explain how I generated this list. I used Python to achieve this. I'll explain my code.\n",
    "\n",
    "Just like any other projets, I started with importing the libraries required for this statistics."
   ]
  },
  {
   "cell_type": "code",
   "execution_count": 276,
   "metadata": {},
   "outputs": [],
   "source": [
    "import requests\n",
    "from collections import defaultdict\n",
    "import math"
   ]
  },
  {
   "cell_type": "markdown",
   "metadata": {},
   "source": [
    "I am using a public API provided by https://pokeapi.co. The API format to get the type details is https://pokeapi.co/api/v2/type/<typeId\\>/. I've to replace the 'typeId' with actual typeId. I've written a helper function to get the URL of the API:"
   ]
  },
  {
   "cell_type": "code",
   "execution_count": 277,
   "metadata": {},
   "outputs": [],
   "source": [
    "def getTypeApiUrl(typeId):\n",
    "    return 'https://pokeapi.co/api/v2/type/' + str(typeId) + '/'"
   ]
  },
  {
   "cell_type": "markdown",
   "metadata": {},
   "source": [
    "I'll just try calling the method for two cases just to confirm whether the function is working properly:"
   ]
  },
  {
   "cell_type": "code",
   "execution_count": 278,
   "metadata": {},
   "outputs": [
    {
     "name": "stdout",
     "output_type": "stream",
     "text": [
      "https://pokeapi.co/api/v2/type/1/\n",
      "https://pokeapi.co/api/v2/type/8/\n"
     ]
    }
   ],
   "source": [
    "print(getTypeApiUrl(1))\n",
    "print(getTypeApiUrl(8))"
   ]
  },
  {
   "cell_type": "markdown",
   "metadata": {},
   "source": [
    "So, everything works well. Now I'll write a function to get the details of one type:"
   ]
  },
  {
   "cell_type": "code",
   "execution_count": 279,
   "metadata": {},
   "outputs": [],
   "source": [
    "def getTypeJson(typeId):\n",
    "    res = requests.get(getTypeApiUrl(typeId))\n",
    "    if res.status_code == 200:\n",
    "        return res.json()\n",
    "    else:\n",
    "        return None"
   ]
  },
  {
   "cell_type": "markdown",
   "metadata": {},
   "source": [
    "Now, I need to request all the types one-by-one. I very well know that there are only 18 types, but I'm just searching from 0 to 25 (excluding 25) just to know whether are we getting anything. Also, I'll store the data in an array, because fetching each time might make the whole process very time-consuming and is not a good programming practice."
   ]
  },
  {
   "cell_type": "code",
   "execution_count": 280,
   "metadata": {},
   "outputs": [
    {
     "name": "stdout",
     "output_type": "stream",
     "text": [
      "Type 1 available...\n",
      "Type 2 available...\n",
      "Type 3 available...\n",
      "Type 4 available...\n",
      "Type 5 available...\n",
      "Type 6 available...\n",
      "Type 7 available...\n",
      "Type 8 available...\n",
      "Type 9 available...\n",
      "Type 10 available...\n",
      "Type 11 available...\n",
      "Type 12 available...\n",
      "Type 13 available...\n",
      "Type 14 available...\n",
      "Type 15 available...\n",
      "Type 16 available...\n",
      "Type 17 available...\n",
      "Type 18 available...\n"
     ]
    }
   ],
   "source": [
    "typeJsons = []\n",
    "for i in range(25):\n",
    "    test = getTypeJson(i)\n",
    "    if test != None:\n",
    "        typeJsons.append(test)\n",
    "        print('Type ' + str(i) + ' available...')"
   ]
  },
  {
   "cell_type": "markdown",
   "metadata": {},
   "source": [
    "So, everything is good so far. I'll take a random object from the array to know the contents of the json and decide whether we have to look of other APIs as well, or will this be fine."
   ]
  },
  {
   "cell_type": "code",
   "execution_count": 281,
   "metadata": {},
   "outputs": [
    {
     "name": "stdout",
     "output_type": "stream",
     "text": [
      "damage_relations <class 'dict'>\n",
      "game_indices <class 'list'>\n",
      "generation <class 'dict'>\n",
      "id <class 'int'>\n",
      "move_damage_class <class 'dict'>\n",
      "moves <class 'list'>\n",
      "name <class 'str'>\n",
      "names <class 'list'>\n",
      "pokemon <class 'list'>\n"
     ]
    }
   ],
   "source": [
    "test = typeJsons[1]\n",
    "for key in test.keys():\n",
    "    print(key, str(type(test[key])))"
   ]
  },
  {
   "cell_type": "markdown",
   "metadata": {},
   "source": [
    "I think the stuffs like `id`, `name`, `damage_relations` and `pokemon` might be helpful for me. I'll just check whether all of them are giving me the content that I'm looking for."
   ]
  },
  {
   "cell_type": "code",
   "execution_count": 282,
   "metadata": {},
   "outputs": [
    {
     "name": "stdout",
     "output_type": "stream",
     "text": [
      "2\n",
      "fighting\n",
      "double_damage_from [{'name': 'flying', 'url': 'https://pokeapi.co/api/v2/type/3/'}, {'name': 'psychic', 'url': 'https://pokeapi.co/api/v2/type/14/'}, {'name': 'fairy', 'url': 'https://pokeapi.co/api/v2/type/18/'}]\n",
      "double_damage_to [{'name': 'normal', 'url': 'https://pokeapi.co/api/v2/type/1/'}, {'name': 'rock', 'url': 'https://pokeapi.co/api/v2/type/6/'}, {'name': 'steel', 'url': 'https://pokeapi.co/api/v2/type/9/'}, {'name': 'ice', 'url': 'https://pokeapi.co/api/v2/type/15/'}, {'name': 'dark', 'url': 'https://pokeapi.co/api/v2/type/17/'}]\n",
      "half_damage_from [{'name': 'rock', 'url': 'https://pokeapi.co/api/v2/type/6/'}, {'name': 'bug', 'url': 'https://pokeapi.co/api/v2/type/7/'}, {'name': 'dark', 'url': 'https://pokeapi.co/api/v2/type/17/'}]\n",
      "half_damage_to [{'name': 'flying', 'url': 'https://pokeapi.co/api/v2/type/3/'}, {'name': 'poison', 'url': 'https://pokeapi.co/api/v2/type/4/'}, {'name': 'bug', 'url': 'https://pokeapi.co/api/v2/type/7/'}, {'name': 'psychic', 'url': 'https://pokeapi.co/api/v2/type/14/'}, {'name': 'fairy', 'url': 'https://pokeapi.co/api/v2/type/18/'}]\n",
      "no_damage_from []\n",
      "no_damage_to [{'name': 'ghost', 'url': 'https://pokeapi.co/api/v2/type/8/'}]\n",
      "{'pokemon': {'name': 'mankey', 'url': 'https://pokeapi.co/api/v2/pokemon/56/'}, 'slot': 1}\n"
     ]
    }
   ],
   "source": [
    "print(test['id'])\n",
    "print(test['name'])\n",
    "for key in test['damage_relations'].keys():\n",
    "    print(key, test['damage_relations'][key])\n",
    "print(test['pokemon'][0])"
   ]
  },
  {
   "cell_type": "markdown",
   "metadata": {},
   "source": [
    "Yes, all of them are as expected. Now, I'll just cache the 4 parameter's keys for later use."
   ]
  },
  {
   "cell_type": "code",
   "execution_count": null,
   "metadata": {},
   "outputs": [],
   "source": [
    "id = 'id'\n",
    "name = 'name'\n",
    "damage_relations = 'damage_relations'\n",
    "pokemon = 'pokemon'"
   ]
  },
  {
   "cell_type": "markdown",
   "metadata": {},
   "source": [
    "One thing I've noticed is that there is no typeID in `damage_relations` and there is no pokemonID in `pokemon`. But both has another parameter `url` which has this ID. I'll write a function to get that ID from the `url`, so that I can use it for fetching the `id` later. I'll also, write a test function call as well here."
   ]
  },
  {
   "cell_type": "code",
   "execution_count": 284,
   "metadata": {},
   "outputs": [
    {
     "name": "stdout",
     "output_type": "stream",
     "text": [
      "6\n"
     ]
    }
   ],
   "source": [
    "def getNumFromUrl(url):\n",
    "    return int(url.split('/')[-2])\n",
    "\n",
    "print(getNumFromUrl('https://pokeapi.co/api/v2/type/6/'))"
   ]
  },
  {
   "cell_type": "markdown",
   "metadata": {},
   "source": [
    "Now, I need to create two classes - for `type` and `pokemon`. I'll start with `type` for now."
   ]
  },
  {
   "cell_type": "code",
   "execution_count": 285,
   "metadata": {},
   "outputs": [],
   "source": [
    "class Type:\n",
    "    \n",
    "    def __init__(self, typeJson):\n",
    "        self.name = typeJson[name]\n",
    "        self.double_damage_from = []\n",
    "        self.double_damage_to = []\n",
    "        self.half_damage_from = []\n",
    "        self.half_damage_to = []\n",
    "        self.no_damage_from = []\n",
    "        self.no_damage_to = []\n",
    "        for oppType in typeJson[damage_relations]['double_damage_from']:\n",
    "            self.double_damage_from.append(getNumFromUrl(oppType['url']))\n",
    "        for oppType in typeJson[damage_relations]['double_damage_to']:\n",
    "            self.double_damage_to.append(getNumFromUrl(oppType['url']))\n",
    "        for oppType in typeJson[damage_relations]['half_damage_from']:\n",
    "            self.half_damage_from.append(getNumFromUrl(oppType['url']))\n",
    "        for oppType in typeJson[damage_relations]['half_damage_to']:\n",
    "            self.half_damage_to.append(getNumFromUrl(oppType['url']))\n",
    "        for oppType in typeJson[damage_relations]['no_damage_from']:\n",
    "            self.no_damage_from.append(getNumFromUrl(oppType['url']))\n",
    "        for oppType in typeJson[damage_relations]['no_damage_to']:\n",
    "            self.no_damage_to.append(getNumFromUrl(oppType['url']))"
   ]
  },
  {
   "cell_type": "markdown",
   "metadata": {},
   "source": [
    "Class is ready, now it's time for a small test."
   ]
  },
  {
   "cell_type": "code",
   "execution_count": 203,
   "metadata": {},
   "outputs": [
    {
     "name": "stdout",
     "output_type": "stream",
     "text": [
      "{2: <__main__.Type object at 0x10db16150>}\n",
      "{}\n"
     ]
    }
   ],
   "source": [
    "types = {}\n",
    "types[test[id]] = Type(test)\n",
    "print(types)\n",
    "types.clear()\n",
    "print(types)"
   ]
  },
  {
   "cell_type": "markdown",
   "metadata": {},
   "source": [
    "Looks good. Now, I'll create a class for every type."
   ]
  },
  {
   "cell_type": "code",
   "execution_count": 204,
   "metadata": {},
   "outputs": [],
   "source": [
    "for typeJson in typeJsons:\n",
    "    types[typeJson[id]] = Type(typeJson)"
   ]
  },
  {
   "cell_type": "markdown",
   "metadata": {},
   "source": [
    "Done, it was fast. Now, I'll create a 2D array to store the damages from type-to-type. Before starting with actual damage values, initially I'll give 1x damage from every type to every type."
   ]
  },
  {
   "cell_type": "code",
   "execution_count": 290,
   "metadata": {},
   "outputs": [
    {
     "name": "stdout",
     "output_type": "stream",
     "text": [
      "normal     [1, 1, 1, 1, 1, 1, 1, 1, 1, 1, 1, 1, 1, 1, 1, 1, 1, 1]\n",
      "fighting   [1, 1, 1, 1, 1, 1, 1, 1, 1, 1, 1, 1, 1, 1, 1, 1, 1, 1]\n",
      "flying     [1, 1, 1, 1, 1, 1, 1, 1, 1, 1, 1, 1, 1, 1, 1, 1, 1, 1]\n",
      "poison     [1, 1, 1, 1, 1, 1, 1, 1, 1, 1, 1, 1, 1, 1, 1, 1, 1, 1]\n",
      "ground     [1, 1, 1, 1, 1, 1, 1, 1, 1, 1, 1, 1, 1, 1, 1, 1, 1, 1]\n",
      "rock       [1, 1, 1, 1, 1, 1, 1, 1, 1, 1, 1, 1, 1, 1, 1, 1, 1, 1]\n",
      "bug        [1, 1, 1, 1, 1, 1, 1, 1, 1, 1, 1, 1, 1, 1, 1, 1, 1, 1]\n",
      "ghost      [1, 1, 1, 1, 1, 1, 1, 1, 1, 1, 1, 1, 1, 1, 1, 1, 1, 1]\n",
      "steel      [1, 1, 1, 1, 1, 1, 1, 1, 1, 1, 1, 1, 1, 1, 1, 1, 1, 1]\n",
      "fire       [1, 1, 1, 1, 1, 1, 1, 1, 1, 1, 1, 1, 1, 1, 1, 1, 1, 1]\n",
      "water      [1, 1, 1, 1, 1, 1, 1, 1, 1, 1, 1, 1, 1, 1, 1, 1, 1, 1]\n",
      "grass      [1, 1, 1, 1, 1, 1, 1, 1, 1, 1, 1, 1, 1, 1, 1, 1, 1, 1]\n",
      "electric   [1, 1, 1, 1, 1, 1, 1, 1, 1, 1, 1, 1, 1, 1, 1, 1, 1, 1]\n",
      "psychic    [1, 1, 1, 1, 1, 1, 1, 1, 1, 1, 1, 1, 1, 1, 1, 1, 1, 1]\n",
      "ice        [1, 1, 1, 1, 1, 1, 1, 1, 1, 1, 1, 1, 1, 1, 1, 1, 1, 1]\n",
      "dragon     [1, 1, 1, 1, 1, 1, 1, 1, 1, 1, 1, 1, 1, 1, 1, 1, 1, 1]\n",
      "dark       [1, 1, 1, 1, 1, 1, 1, 1, 1, 1, 1, 1, 1, 1, 1, 1, 1, 1]\n",
      "fairy      [1, 1, 1, 1, 1, 1, 1, 1, 1, 1, 1, 1, 1, 1, 1, 1, 1, 1]\n"
     ]
    }
   ],
   "source": [
    "damage = [[1 for _ in range(18)] for _ in range(18)]\n",
    "def printDamage():\n",
    "    for i in range(len(damage)):\n",
    "        print(types[i+1].name.ljust(10), damage[i])\n",
    "\n",
    "printDamage()"
   ]
  },
  {
   "cell_type": "markdown",
   "metadata": {},
   "source": [
    "Now, let's fill up the damage details and print it."
   ]
  },
  {
   "cell_type": "code",
   "execution_count": 291,
   "metadata": {},
   "outputs": [
    {
     "name": "stdout",
     "output_type": "stream",
     "text": [
      "normal     [1, 1, 1, 1, 1, 0.5, 1, 0, 0.5, 1, 1, 1, 1, 1, 1, 1, 1, 1]\n",
      "fighting   [2, 1, 0.5, 0.5, 1, 2, 0.5, 0, 2, 1, 1, 1, 1, 0.5, 2, 1, 2, 0.5]\n",
      "flying     [1, 2, 1, 1, 1, 0.5, 2, 1, 0.5, 1, 1, 2, 0.5, 1, 1, 1, 1, 1]\n",
      "poison     [1, 1, 1, 0.5, 0.5, 0.5, 1, 0.5, 0, 1, 1, 2, 1, 1, 1, 1, 1, 2]\n",
      "ground     [1, 1, 0, 2, 1, 2, 0.5, 1, 2, 2, 1, 0.5, 2, 1, 1, 1, 1, 1]\n",
      "rock       [1, 0.5, 2, 1, 0.5, 1, 2, 1, 0.5, 2, 1, 1, 1, 1, 2, 1, 1, 1]\n",
      "bug        [1, 0.5, 0.5, 0.5, 1, 1, 1, 0.5, 0.5, 0.5, 1, 2, 1, 2, 1, 1, 2, 0.5]\n",
      "ghost      [0, 1, 1, 1, 1, 1, 1, 2, 1, 1, 1, 1, 1, 2, 1, 1, 0.5, 1]\n",
      "steel      [1, 1, 1, 1, 1, 2, 1, 1, 0.5, 0.5, 0.5, 1, 0.5, 1, 2, 1, 1, 2]\n",
      "fire       [1, 1, 1, 1, 1, 0.5, 2, 1, 2, 0.5, 0.5, 2, 1, 1, 2, 0.5, 1, 1]\n",
      "water      [1, 1, 1, 1, 2, 2, 1, 1, 1, 2, 0.5, 0.5, 1, 1, 1, 0.5, 1, 1]\n",
      "grass      [1, 1, 0.5, 0.5, 2, 2, 0.5, 1, 0.5, 0.5, 2, 0.5, 1, 1, 1, 0.5, 1, 1]\n",
      "electric   [1, 1, 2, 1, 0, 1, 1, 1, 1, 1, 2, 0.5, 0.5, 1, 1, 0.5, 1, 1]\n",
      "psychic    [1, 2, 1, 2, 1, 1, 1, 1, 0.5, 1, 1, 1, 1, 0.5, 1, 1, 0, 1]\n",
      "ice        [1, 1, 2, 1, 2, 1, 1, 1, 0.5, 0.5, 0.5, 2, 1, 1, 0.5, 2, 1, 1]\n",
      "dragon     [1, 1, 1, 1, 1, 1, 1, 1, 0.5, 1, 1, 1, 1, 1, 1, 2, 1, 0]\n",
      "dark       [1, 0.5, 1, 1, 1, 1, 1, 2, 1, 1, 1, 1, 1, 2, 1, 1, 0.5, 0.5]\n",
      "fairy      [1, 2, 1, 0.5, 1, 1, 1, 1, 0.5, 0.5, 1, 1, 1, 1, 1, 2, 2, 1]\n"
     ]
    }
   ],
   "source": [
    "for key in types:\n",
    "    for opId in types[key].double_damage_to:\n",
    "        damage[key-1][opId-1] *= 2\n",
    "    for opId in types[key].half_damage_to:\n",
    "        damage[key-1][opId-1] *= 0.5\n",
    "    for opId in types[key].no_damage_to:\n",
    "        damage[key-1][opId-1] *= 0\n",
    "\n",
    "printDamage()"
   ]
  },
  {
   "cell_type": "markdown",
   "metadata": {},
   "source": [
    "Now, I'll create the class for Pokemon and insert all the Pokemons to a dictionary."
   ]
  },
  {
   "cell_type": "code",
   "execution_count": 292,
   "metadata": {},
   "outputs": [],
   "source": [
    "class Pokemon:\n",
    "    def __init__(self, name, type1):\n",
    "        self.name = name\n",
    "        self.type1 = type1\n",
    "        self.type2 = None\n",
    "\n",
    "allPokemons = {}\n",
    "\n",
    "for typeJson in typeJsons:\n",
    "    for mon in typeJson[pokemon]:\n",
    "        monId = getNumFromUrl(mon[pokemon]['url'])\n",
    "        if monId in allPokemons:\n",
    "            if allPokemons[monId].type1 < typeJson[id]:\n",
    "                allPokemons[monId].type2 = typeJson[id]\n",
    "        else:\n",
    "            allPokemons[monId] = Pokemon(mon[pokemon][name], typeJson[id])"
   ]
  },
  {
   "cell_type": "markdown",
   "metadata": {},
   "source": [
    "Now, I'll print one of them along with their Pokemon ID and type IDs just to test whether assigning worked well."
   ]
  },
  {
   "cell_type": "code",
   "execution_count": 298,
   "metadata": {},
   "outputs": [
    {
     "name": "stdout",
     "output_type": "stream",
     "text": [
      "6 charizard 3 10\n"
     ]
    }
   ],
   "source": [
    "print(6, allPokemons[6].name, allPokemons[6].type1, allPokemons[6].type2)"
   ]
  },
  {
   "cell_type": "markdown",
   "metadata": {},
   "source": [
    "Now, I've to create few lists depending on their dual type. For this, I'll define something known as dualTypeId, which will be unique for all combinations of types. I'll write a function to generate the dualTypeId and will test it."
   ]
  },
  {
   "cell_type": "code",
   "execution_count": 299,
   "metadata": {},
   "outputs": [
    {
     "name": "stdout",
     "output_type": "stream",
     "text": [
      "182\n"
     ]
    }
   ],
   "source": [
    "def getDualTypeId(pokemon):\n",
    "    if pokemon.type2 == None:\n",
    "        return pokemon.type1-1\n",
    "    else:\n",
    "        return pokemon.type2 * len(types) + pokemon.type1-1\n",
    "\n",
    "print(getDualTypeId(allPokemons[6]))"
   ]
  },
  {
   "cell_type": "markdown",
   "metadata": {},
   "source": [
    "Looks good. Next, I'll create the lists and insert the Pokemon IDs to all the lists."
   ]
  },
  {
   "cell_type": "code",
   "execution_count": 300,
   "metadata": {},
   "outputs": [],
   "source": [
    "dualTypeMap = defaultdict(lambda: [])\n",
    "for key in allPokemons:\n",
    "    dualTypeId = getDualTypeId(allPokemons[key])\n",
    "    dualTypeMap[dualTypeId].append(key)"
   ]
  },
  {
   "cell_type": "markdown",
   "metadata": {},
   "source": [
    "Before starting to generate the list, I'll be needing two functions: one for getting the type details if a dualTypeId is given, and another to return the list of types after appending and counting them. I'll write both the functions with a test call."
   ]
  },
  {
   "cell_type": "code",
   "execution_count": 316,
   "metadata": {},
   "outputs": [
    {
     "name": "stdout",
     "output_type": "stream",
     "text": [
      "('flying+fire', 3, 10)\n",
      "('\\n\\t\\tfighting+flying (1 Pokemons)\\n\\t\\telectric+flying (0 Pokemons)\\n\\t\\trock+poison (0 Pokemons)\\n\\t\\tdark+poison (0 Pokemons)', 1)\n"
     ]
    }
   ],
   "source": [
    "def getTypeFromDualId(id):\n",
    "    type1 = id % 18 + 1\n",
    "    type2 = math.floor(id/18)\n",
    "    if type2 != 0:\n",
    "        return (types[type1].name + '+' + types[type2].name, type1, type2)\n",
    "    else:\n",
    "        return (types[type1].name, type1, None)\n",
    "\n",
    "def getListTypes(typeList):\n",
    "    count = 0\n",
    "    if len(typeList) == 0:\n",
    "        return ('\\n\\t\\tNone', count)\n",
    "    string = ''\n",
    "    for i in range(len(typeList)):\n",
    "        string += ('\\n\\t\\t' + getTypeFromDualId(typeList[i])[0] + ' (' + str(len(dualTypeMap[typeList[i]])) + ' Pokemons)')\n",
    "        count += len(dualTypeMap[typeList[i]])\n",
    "    return (string, count)\n",
    "\n",
    "print(getTypeFromDualId(182))\n",
    "print(getListTypes([55, 66, 77, 88]))"
   ]
  },
  {
   "cell_type": "markdown",
   "metadata": {},
   "source": [
    "Okay, now our final step - generating the list of types along with whom all they're good and bad.\n",
    "\n",
    "I'll list out how I'm classifying the types under different categories:\n",
    "1. Very weak - It will take 4x damage from the opponent, but will give return damage of maximum 1x.\n",
    "2. Weak - It will take 2x damage from the opponent, but will give return damage of maximum 0.5x.\n",
    "3. Strong - It will take 0.5x damage from the opponent, but will give return damage of minimum 2x.\n",
    "4. Very strong - It will take 0.25x damage from the opponent, but will give return damage of minimum 1x.\n",
    "5. No effect - It will take 4x damage from the opponent, but will give return damage of maximum 1x.\n",
    "\n",
    "PS: I'm assuming that the opponents will have attacks of only their primary or secondary types. But in real scenario, there are different cases where Pokemon will have attack types which are not their types. But I'm not considering them, because it will make the program very complex. But I can take it up later if many people are interested."
   ]
  },
  {
   "cell_type": "code",
   "execution_count": 318,
   "metadata": {},
   "outputs": [],
   "source": [
    "file = open('pokemon-type-statistics.txt', 'w+')\n",
    "for key in dualTypeMap.keys():\n",
    "    typeName, type1, type2 = getTypeFromDualId(key)\n",
    "    file.write(typeName + ': ' + str(len(dualTypeMap[key])) + ' Pokemons\\n')\n",
    "    veryStrong = []\n",
    "    strong = []\n",
    "    weak = []\n",
    "    veryWeak = []\n",
    "    noEffect = []\n",
    "    for key in dualTypeMap.keys():\n",
    "        oppTypeName, oppType1, oppType2 = getTypeFromDualId(key)\n",
    "        if type2 == None and oppType2 == None:\n",
    "            damageTaken = damage[oppType1-1][type1-1]\n",
    "            damageGiven = damage[type1-1][oppType1-1]\n",
    "        elif type2 == None:\n",
    "            damageTaken = max(damage[oppType1-1][type1-1], damage[oppType2-1][type1-1])\n",
    "            damageGiven = damage[type1-1][oppType1-1] * damage[type1-1][oppType2-1]\n",
    "        elif oppType2 == None:\n",
    "            damageTaken = damage[oppType1-1][type1-1] * damage[oppType1-1][type2-1]\n",
    "            damageGiven = max(damage[type1-1][oppType1-1], damage[type2-1][oppType1-1])\n",
    "        else:\n",
    "            damageTaken = max(damage[oppType1-1][type1-1] * damage[oppType1-1][type2-1],\n",
    "                              damage[oppType2-1][type1-1] * damage[oppType2-1][type2-1])\n",
    "            damageGiven = max(damage[type1-1][oppType1-1] * damage[type1-1][oppType2-1],\n",
    "                              damage[type2-1][oppType1-1] * damage[type2-1][oppType2-1])\n",
    "        if damageTaken == 4 and damageGiven <= 1:\n",
    "            veryWeak.append(key)\n",
    "        elif damageTaken == 2 and damageGiven <= 0.5:\n",
    "            weak.append(key)\n",
    "        elif damageTaken == 0.5 and damageGiven >= 2:\n",
    "            strong.append(key)\n",
    "        elif damageTaken == 0.25 and damageGiven >= 1:\n",
    "            veryStrong.append(key)\n",
    "        elif damageTaken == 0 and damageGiven >= 1:\n",
    "            noEffect.append(key)\n",
    "    string, count = getListTypes(veryWeak)\n",
    "    file.write(\"\\tVery weak (4x) against \" + str(count) + \" Pokemons:\" + string + '\\n')\n",
    "    string, count = getListTypes(weak)\n",
    "    file.write(\"\\tWeak (2x) against \" + str(count) + \" Pokemons:\" + string + '\\n')\n",
    "    string, count = getListTypes(strong)\n",
    "    file.write(\"\\tStrong (0.5x) against \" + str(count) + \" Pokemons:\" + string + '\\n')\n",
    "    string, count = getListTypes(veryStrong)\n",
    "    file.write(\"\\tVery strong (0.25x) against \" + str(count) + \" Pokemons:\" + string + '\\n')\n",
    "    string, count = getListTypes(noEffect)\n",
    "    file.write(\"\\tNo effect (0x) against \" + str(count) + \" Pokemons:\" + string + '\\n')\n",
    "    file.write(\"\\n\")"
   ]
  },
  {
   "cell_type": "markdown",
   "metadata": {},
   "source": [
    "To see the list, please follow the link: https://github.com/danieljames-dj/notebooks/blob/master/pokemon-type-statistics.txt"
   ]
  }
 ],
 "metadata": {
  "kernelspec": {
   "display_name": "Python 3",
   "language": "python",
   "name": "python3"
  },
  "language_info": {
   "codemirror_mode": {
    "name": "ipython",
    "version": 3
   },
   "file_extension": ".py",
   "mimetype": "text/x-python",
   "name": "python",
   "nbconvert_exporter": "python",
   "pygments_lexer": "ipython3",
   "version": "3.7.7"
  }
 },
 "nbformat": 4,
 "nbformat_minor": 2
}
